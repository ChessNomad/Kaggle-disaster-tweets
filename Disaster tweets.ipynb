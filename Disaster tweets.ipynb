{
 "cells": [
  {
   "cell_type": "markdown",
   "metadata": {},
   "source": [
    "# NLP and disaster\n",
    "The main focus of this machine learning model will be to train a model to classify tweets if they are about real disasters or not."
   ]
  },
  {
   "cell_type": "code",
   "execution_count": 1,
   "metadata": {
    "ExecuteTime": {
     "end_time": "2020-07-22T14:21:05.015717Z",
     "start_time": "2020-07-22T14:21:04.306614Z"
    }
   },
   "outputs": [
    {
     "data": {
      "text/html": [
       "<div>\n",
       "<style scoped>\n",
       "    .dataframe tbody tr th:only-of-type {\n",
       "        vertical-align: middle;\n",
       "    }\n",
       "\n",
       "    .dataframe tbody tr th {\n",
       "        vertical-align: top;\n",
       "    }\n",
       "\n",
       "    .dataframe thead th {\n",
       "        text-align: right;\n",
       "    }\n",
       "</style>\n",
       "<table border=\"1\" class=\"dataframe\">\n",
       "  <thead>\n",
       "    <tr style=\"text-align: right;\">\n",
       "      <th></th>\n",
       "      <th>id</th>\n",
       "      <th>keyword</th>\n",
       "      <th>location</th>\n",
       "      <th>text</th>\n",
       "      <th>target</th>\n",
       "    </tr>\n",
       "  </thead>\n",
       "  <tbody>\n",
       "    <tr>\n",
       "      <th>0</th>\n",
       "      <td>1</td>\n",
       "      <td>NaN</td>\n",
       "      <td>NaN</td>\n",
       "      <td>Our Deeds are the Reason of this #earthquake M...</td>\n",
       "      <td>1</td>\n",
       "    </tr>\n",
       "    <tr>\n",
       "      <th>1</th>\n",
       "      <td>4</td>\n",
       "      <td>NaN</td>\n",
       "      <td>NaN</td>\n",
       "      <td>Forest fire near La Ronge Sask. Canada</td>\n",
       "      <td>1</td>\n",
       "    </tr>\n",
       "    <tr>\n",
       "      <th>2</th>\n",
       "      <td>5</td>\n",
       "      <td>NaN</td>\n",
       "      <td>NaN</td>\n",
       "      <td>All residents asked to 'shelter in place' are ...</td>\n",
       "      <td>1</td>\n",
       "    </tr>\n",
       "    <tr>\n",
       "      <th>3</th>\n",
       "      <td>6</td>\n",
       "      <td>NaN</td>\n",
       "      <td>NaN</td>\n",
       "      <td>13,000 people receive #wildfires evacuation or...</td>\n",
       "      <td>1</td>\n",
       "    </tr>\n",
       "    <tr>\n",
       "      <th>4</th>\n",
       "      <td>7</td>\n",
       "      <td>NaN</td>\n",
       "      <td>NaN</td>\n",
       "      <td>Just got sent this photo from Ruby #Alaska as ...</td>\n",
       "      <td>1</td>\n",
       "    </tr>\n",
       "  </tbody>\n",
       "</table>\n",
       "</div>"
      ],
      "text/plain": [
       "   id keyword location                                               text  \\\n",
       "0   1     NaN      NaN  Our Deeds are the Reason of this #earthquake M...   \n",
       "1   4     NaN      NaN             Forest fire near La Ronge Sask. Canada   \n",
       "2   5     NaN      NaN  All residents asked to 'shelter in place' are ...   \n",
       "3   6     NaN      NaN  13,000 people receive #wildfires evacuation or...   \n",
       "4   7     NaN      NaN  Just got sent this photo from Ruby #Alaska as ...   \n",
       "\n",
       "   target  \n",
       "0       1  \n",
       "1       1  \n",
       "2       1  \n",
       "3       1  \n",
       "4       1  "
      ]
     },
     "execution_count": 1,
     "metadata": {},
     "output_type": "execute_result"
    }
   ],
   "source": [
    "#Reading in the data and importing the necessary libraries\n",
    "import pandas as pd\n",
    "import numpy as np\n",
    "\n",
    "#I am stopping the warnings, forever!\n",
    "import warnings\n",
    "warnings.filterwarnings('ignore')\n",
    "\n",
    "train = pd.read_csv('train.csv')\n",
    "test = pd.read_csv('test.csv')\n",
    "\n",
    "train.head()"
   ]
  },
  {
   "cell_type": "markdown",
   "metadata": {},
   "source": [
    "We can see 5 columns. \n",
    "* id - a unique identifier for each tweet\n",
    "* text - the text of the tweet\n",
    "* location - the location the tweet was sent from (may be blank)\n",
    "* keyword - a particular keyword from the tweet (may be blank)\n",
    "* target - in train.csv only, this denotes whether a tweet is about a real disaster (1) or not (0)\n",
    "\n",
    "The first thing that catches the eye is the amount of null values in the keyword and location columns. Let's see how many there are."
   ]
  },
  {
   "cell_type": "code",
   "execution_count": 2,
   "metadata": {
    "ExecuteTime": {
     "end_time": "2020-07-22T14:21:05.030675Z",
     "start_time": "2020-07-22T14:21:05.019704Z"
    }
   },
   "outputs": [
    {
     "data": {
      "text/plain": [
       "id             0\n",
       "keyword       61\n",
       "location    2533\n",
       "text           0\n",
       "target         0\n",
       "dtype: int64"
      ]
     },
     "execution_count": 2,
     "metadata": {},
     "output_type": "execute_result"
    }
   ],
   "source": [
    "train.isnull().sum()"
   ]
  },
  {
   "cell_type": "code",
   "execution_count": 3,
   "metadata": {
    "ExecuteTime": {
     "end_time": "2020-07-22T14:21:05.040650Z",
     "start_time": "2020-07-22T14:21:05.033667Z"
    }
   },
   "outputs": [
    {
     "data": {
      "text/plain": [
       "(7613, 5)"
      ]
     },
     "execution_count": 3,
     "metadata": {},
     "output_type": "execute_result"
    }
   ],
   "source": [
    "train.shape"
   ]
  },
  {
   "cell_type": "markdown",
   "metadata": {},
   "source": [
    "All in all the missing values are less than 66% for every column. For text there are none. Most entries specify a keyword, and 66% specify a location."
   ]
  },
  {
   "cell_type": "code",
   "execution_count": 4,
   "metadata": {
    "ExecuteTime": {
     "end_time": "2020-07-22T14:21:05.055608Z",
     "start_time": "2020-07-22T14:21:05.043640Z"
    },
    "scrolled": true
   },
   "outputs": [
    {
     "data": {
      "text/plain": [
       "0     Our Deeds are the Reason of this #earthquake M...\n",
       "1                Forest fire near La Ronge Sask. Canada\n",
       "2     All residents asked to 'shelter in place' are ...\n",
       "3     13,000 people receive #wildfires evacuation or...\n",
       "4     Just got sent this photo from Ruby #Alaska as ...\n",
       "5     #RockyFire Update => California Hwy. 20 closed...\n",
       "6     #flood #disaster Heavy rain causes flash flood...\n",
       "7     I'm on top of the hill and I can see a fire in...\n",
       "8     There's an emergency evacuation happening now ...\n",
       "9     I'm afraid that the tornado is coming to our a...\n",
       "10          Three people died from the heat wave so far\n",
       "11    Haha South Tampa is getting flooded hah- WAIT ...\n",
       "12    #raining #flooding #Florida #TampaBay #Tampa 1...\n",
       "13              #Flood in Bago Myanmar #We arrived Bago\n",
       "14    Damage to school bus on 80 in multi car crash ...\n",
       "15                                       What's up man?\n",
       "16                                        I love fruits\n",
       "17                                     Summer is lovely\n",
       "18                                    My car is so fast\n",
       "19                         What a goooooooaaaaaal!!!!!!\n",
       "20                               this is ridiculous....\n",
       "21                                    London is cool ;)\n",
       "22                                          Love skiing\n",
       "23                                What a wonderful day!\n",
       "24                                             LOOOOOOL\n",
       "25                       No way...I can't eat that shit\n",
       "26                                Was in NYC last week!\n",
       "27                                   Love my girlfriend\n",
       "28                                            Cooool :)\n",
       "29                                   Do you like pasta?\n",
       "30                                             The end!\n",
       "31    @bbcmtd Wholesale Markets ablaze http://t.co/l...\n",
       "32    We always try to bring the heavy. #metal #RT h...\n",
       "33    #AFRICANBAZE: Breaking news:Nigeria flag set a...\n",
       "34                   Crying out for more! Set me ablaze\n",
       "35    On plus side LOOK AT THE SKY LAST NIGHT IT WAS...\n",
       "36    @PhDSquares #mufc they've built so much hype a...\n",
       "37    INEC Office in Abia Set Ablaze - http://t.co/3...\n",
       "38    Barbados #Bridgetown JAMAICA ÛÒ Two cars set ...\n",
       "39                               Ablaze for you Lord :D\n",
       "40    Check these out: http://t.co/rOI2NSmEJJ http:/...\n",
       "41    on the outside you're ablaze and alive\\nbut yo...\n",
       "42    Had an awesome time visiting the CFC head offi...\n",
       "43         SOOOO PUMPED FOR ABLAZE ???? @southridgelife\n",
       "44    I wanted to set Chicago ablaze with my preachi...\n",
       "45    I gained 3 followers in the last week. You? Kn...\n",
       "46    How the West was burned: Thousands of wildfire...\n",
       "47    Building the perfect tracklist to life leave t...\n",
       "48    Check these out: http://t.co/rOI2NSmEJJ http:/...\n",
       "49    First night with retainers in. It's quite weir...\n",
       "50    Deputies: Man shot before Brighton home set ab...\n",
       "51    Man wife get six years jail for setting ablaze...\n",
       "52    SANTA CRUZ ÛÓ Head of the St Elizabeth Police...\n",
       "53    Police: Arsonist Deliberately Set Black Church...\n",
       "54    Noches El-Bestia '@Alexis_Sanchez: happy to se...\n",
       "55    #Kurds trampling on Turkmen flag later set it ...\n",
       "56    TRUCK ABLAZE : R21. VOORTREKKER AVE. OUTSIDE O...\n",
       "57    Set our hearts ablaze and every city was a gif...\n",
       "58    They sky was ablaze tonight in Los Angeles. I'...\n",
       "59    How the West was burned: Thousands of wildfire...\n",
       "60    Revel in yours wmv videos by means of mac fare...\n",
       "61    Progressive greetings!\\n\\nIn about a month stu...\n",
       "62    Rene Ablaze &amp; Jacinta - Secret 2k13 (Falle...\n",
       "63    @Navista7 Steve these fires out here are somet...\n",
       "64    #NowPlaying: Rene Ablaze &amp; Ian Buff - Magn...\n",
       "65    @nxwestmidlands huge fire at Wholesale markets...\n",
       "66    @ablaze what time does your talk go until? I d...\n",
       "67    'I can't have kids cuz I got in a bicycle acci...\n",
       "68    Accident on I-24 W #NashvilleTraffic. Traffic ...\n",
       "69    Accident center lane blocked in #SantaClara on...\n",
       "70    http://t.co/GKYe6gjTk5 Had a #personalinjury a...\n",
       "71    #stlouis #caraccidentlawyer Speeding Among Top...\n",
       "72    Reported motor vehicle accident in Curry on He...\n",
       "73                  BigRigRadio Live Accident Awareness\n",
       "74    I-77 Mile Marker 31 South Mooresville  Iredell...\n",
       "75    RT @SleepJunkies: Sleeping pills double your r...\n",
       "76    'By accident' they knew what was gon happen ht...\n",
       "77    Traffic accident N CABRILLO HWY/MAGELLAN AV MI...\n",
       "78    I-77 Mile Marker 31 to 40 South Mooresville  I...\n",
       "79    the pastor was not in the scene of the acciden...\n",
       "80    mom: 'we didn't get home as fast as we wished'...\n",
       "81    I was in a horrible car accident this past Sun...\n",
       "82    Can wait to see how pissed Donnie is when I te...\n",
       "83    #TruckCrash Overturns On #FortWorth Interstate...\n",
       "84    Accident in #Ashville on US 23 SB before SR 75...\n",
       "85    Carolina accident: Motorcyclist Dies in I-540 ...\n",
       "86    FYI CAD:FYI: ;ACCIDENT PROPERTY DAMAGE;NHS;999...\n",
       "87    RT nAAYf: First accident in years. Turning ont...\n",
       "88    Accident left lane blocked in #Manchester on R...\n",
       "89      ;ACCIDENT PROPERTY DAMAGE; PINER RD/HORNDALE DR\n",
       "90       ???? it was an accident http://t.co/Oia5fxi4gM\n",
       "91    FYI CAD:FYI: ;ACCIDENT PROPERTY DAMAGE;WPD;160...\n",
       "92    8/6/2015@2:09 PM: TRAFFIC ACCIDENT NO INJURY a...\n",
       "93    Aashiqui Actress Anu Aggarwal On Her Near-Fata...\n",
       "94    Suffield Alberta Accident https://t.co/bPTmlF4P10\n",
       "95    9 Mile backup on I-77 South...accident blockin...\n",
       "96    Has an accident changed your life? We will hel...\n",
       "97    #BREAKING: there was a deadly motorcycle car a...\n",
       "98    @flowri were you marinading it or was it an ac...\n",
       "99    only had a car for not even a week and got in ...\n",
       "Name: text, dtype: object"
      ]
     },
     "execution_count": 4,
     "metadata": {},
     "output_type": "execute_result"
    }
   ],
   "source": [
    "#Extend the output\n",
    "pd.set_option('display.max_rows',500)\n",
    "#Now I am going to inspect the first 100 tweets more closely\n",
    "train.text.head(100)"
   ]
  },
  {
   "cell_type": "markdown",
   "metadata": {
    "ExecuteTime": {
     "end_time": "2020-07-21T13:04:45.010926Z",
     "start_time": "2020-07-21T13:04:44.981116Z"
    }
   },
   "source": [
    "One of my hypotheses is that rows containing '?' are less likely to be an accident. Let's check that and engineer an extra column if possible."
   ]
  },
  {
   "cell_type": "code",
   "execution_count": 5,
   "metadata": {
    "ExecuteTime": {
     "end_time": "2020-07-22T14:21:05.083542Z",
     "start_time": "2020-07-22T14:21:05.058601Z"
    }
   },
   "outputs": [
    {
     "name": "stdout",
     "output_type": "stream",
     "text": [
      "0    4342\n",
      "1    3271\n",
      "Name: target, dtype: int64\n",
      "0    750\n",
      "1    292\n",
      "Name: target, dtype: int64\n"
     ]
    }
   ],
   "source": [
    "#Filtering train for possible occurances of '?'\n",
    "question_train = train[train['text'].str.contains(r'\\?')]\n",
    "\n",
    "print(train['target'].value_counts())\n",
    "print(question_train['target'].value_counts())"
   ]
  },
  {
   "cell_type": "markdown",
   "metadata": {},
   "source": [
    "We can see that the chances for disaster dramatically decrease when there is a question mark present. Hence we can engineer a column 'question'"
   ]
  },
  {
   "cell_type": "code",
   "execution_count": 6,
   "metadata": {
    "ExecuteTime": {
     "end_time": "2020-07-22T14:21:05.106473Z",
     "start_time": "2020-07-22T14:21:05.086526Z"
    }
   },
   "outputs": [
    {
     "name": "stdout",
     "output_type": "stream",
     "text": [
      "0    4342\n",
      "1    3271\n",
      "Name: target, dtype: int64\n",
      "0    886\n",
      "1    875\n",
      "Name: target, dtype: int64\n"
     ]
    }
   ],
   "source": [
    "#Now let's check other characters as well before removing them\n",
    "#Starting with '#'\n",
    "hashtag_train = train[train['text'].str.contains(r'#')]\n",
    "\n",
    "print(train['target'].value_counts())\n",
    "print(hashtag_train['target'].value_counts())"
   ]
  },
  {
   "cell_type": "code",
   "execution_count": 7,
   "metadata": {
    "ExecuteTime": {
     "end_time": "2020-07-22T14:21:05.129412Z",
     "start_time": "2020-07-22T14:21:05.110461Z"
    }
   },
   "outputs": [
    {
     "name": "stdout",
     "output_type": "stream",
     "text": [
      "0    4342\n",
      "1    3271\n",
      "Name: target, dtype: int64\n",
      "0    523\n",
      "1    196\n",
      "Name: target, dtype: int64\n"
     ]
    }
   ],
   "source": [
    "#Now let's check other characters as well before removing them\n",
    "#Now '!'\n",
    "exclam_train = train[train['text'].str.contains(r'\\!')]\n",
    "\n",
    "print(train['target'].value_counts())\n",
    "print(exclam_train['target'].value_counts())"
   ]
  },
  {
   "cell_type": "code",
   "execution_count": 8,
   "metadata": {
    "ExecuteTime": {
     "end_time": "2020-07-22T14:21:05.151353Z",
     "start_time": "2020-07-22T14:21:05.132403Z"
    }
   },
   "outputs": [
    {
     "name": "stdout",
     "output_type": "stream",
     "text": [
      "0    4342\n",
      "1    3271\n",
      "Name: target, dtype: int64\n",
      "0    222\n",
      "1    137\n",
      "Name: target, dtype: int64\n"
     ]
    }
   ],
   "source": [
    "#Now let's check other characters as well before removing them\n",
    "#'&'\n",
    "and_train = train[train['text'].str.contains(r'&')]\n",
    "\n",
    "print(train['target'].value_counts())\n",
    "print(and_train['target'].value_counts())"
   ]
  },
  {
   "cell_type": "code",
   "execution_count": 9,
   "metadata": {
    "ExecuteTime": {
     "end_time": "2020-07-22T14:21:05.169304Z",
     "start_time": "2020-07-22T14:21:05.153348Z"
    }
   },
   "outputs": [
    {
     "name": "stdout",
     "output_type": "stream",
     "text": [
      "0    4342\n",
      "1    3271\n",
      "Name: target, dtype: int64\n",
      "0    1363\n",
      "1     676\n",
      "Name: target, dtype: int64\n"
     ]
    }
   ],
   "source": [
    "#Now let's check other characters as well before removing them\n",
    "#'@'\n",
    "at_train = train[train['text'].str.contains(r'@')]\n",
    "\n",
    "print(train['target'].value_counts())\n",
    "print(at_train['target'].value_counts())"
   ]
  },
  {
   "cell_type": "code",
   "execution_count": 10,
   "metadata": {
    "ExecuteTime": {
     "end_time": "2020-07-22T14:21:05.191246Z",
     "start_time": "2020-07-22T14:21:05.171298Z"
    }
   },
   "outputs": [
    {
     "name": "stdout",
     "output_type": "stream",
     "text": [
      "0    4342\n",
      "1    3271\n",
      "Name: target, dtype: int64\n",
      "1    2343\n",
      "0    2007\n",
      "Name: target, dtype: int64\n"
     ]
    }
   ],
   "source": [
    "#Now let's check other characters as well before removing them\n",
    "#':'\n",
    "colon_train = train[train['text'].str.contains(r':')]\n",
    "\n",
    "print(train['target'].value_counts())\n",
    "print(colon_train['target'].value_counts())"
   ]
  },
  {
   "cell_type": "code",
   "execution_count": 11,
   "metadata": {
    "ExecuteTime": {
     "end_time": "2020-07-22T14:21:05.214185Z",
     "start_time": "2020-07-22T14:21:05.193240Z"
    }
   },
   "outputs": [
    {
     "name": "stdout",
     "output_type": "stream",
     "text": [
      "0    4342\n",
      "1    3271\n",
      "Name: target, dtype: int64\n",
      "0    1305\n",
      "1     672\n",
      "Name: target, dtype: int64\n"
     ]
    }
   ],
   "source": [
    "#Now let's check other characters as well before removing them\n",
    "#'''\n",
    "apostrophe_train = train[train['text'].str.contains(r\"'\")]\n",
    "\n",
    "print(train['target'].value_counts())\n",
    "print(apostrophe_train['target'].value_counts())"
   ]
  },
  {
   "cell_type": "code",
   "execution_count": 12,
   "metadata": {
    "ExecuteTime": {
     "end_time": "2020-07-22T14:21:05.245100Z",
     "start_time": "2020-07-22T14:21:05.216178Z"
    }
   },
   "outputs": [
    {
     "name": "stdout",
     "output_type": "stream",
     "text": [
      "0    4342\n",
      "1    3271\n",
      "Name: target, dtype: int64\n",
      "Series([], Name: target, dtype: int64)\n"
     ]
    },
    {
     "data": {
      "text/html": [
       "<div>\n",
       "<style scoped>\n",
       "    .dataframe tbody tr th:only-of-type {\n",
       "        vertical-align: middle;\n",
       "    }\n",
       "\n",
       "    .dataframe tbody tr th {\n",
       "        vertical-align: top;\n",
       "    }\n",
       "\n",
       "    .dataframe thead th {\n",
       "        text-align: right;\n",
       "    }\n",
       "</style>\n",
       "<table border=\"1\" class=\"dataframe\">\n",
       "  <thead>\n",
       "    <tr style=\"text-align: right;\">\n",
       "      <th></th>\n",
       "      <th>id</th>\n",
       "      <th>keyword</th>\n",
       "      <th>location</th>\n",
       "      <th>text</th>\n",
       "      <th>target</th>\n",
       "    </tr>\n",
       "  </thead>\n",
       "  <tbody>\n",
       "  </tbody>\n",
       "</table>\n",
       "</div>"
      ],
      "text/plain": [
       "Empty DataFrame\n",
       "Columns: [id, keyword, location, text, target]\n",
       "Index: []"
      ]
     },
     "execution_count": 12,
     "metadata": {},
     "output_type": "execute_result"
    }
   ],
   "source": [
    "#Now let's check other characters as well before removing them\n",
    "#'\"'\n",
    "quote_train = train[train['text'].str.contains(r'\"')]\n",
    "\n",
    "print(train['target'].value_counts())\n",
    "print(quote_train['target'].value_counts())\n",
    "#This does not seem to be present\n",
    "quote_train.head()"
   ]
  },
  {
   "cell_type": "code",
   "execution_count": 13,
   "metadata": {
    "ExecuteTime": {
     "end_time": "2020-07-22T14:21:05.266046Z",
     "start_time": "2020-07-22T14:21:05.248097Z"
    }
   },
   "outputs": [
    {
     "name": "stdout",
     "output_type": "stream",
     "text": [
      "0    4342\n",
      "1    3271\n",
      "Name: target, dtype: int64\n",
      "0    26\n",
      "1    12\n",
      "Name: target, dtype: int64\n"
     ]
    }
   ],
   "source": [
    "#Now let's check other characters as well before removing them\n",
    "#'$'\n",
    "dollar_train = train[train['text'].str.contains(r'\\$')]\n",
    "\n",
    "print(train['target'].value_counts())\n",
    "print(dollar_train['target'].value_counts())"
   ]
  },
  {
   "cell_type": "code",
   "execution_count": 14,
   "metadata": {
    "ExecuteTime": {
     "end_time": "2020-07-22T14:21:05.289985Z",
     "start_time": "2020-07-22T14:21:05.270035Z"
    }
   },
   "outputs": [
    {
     "name": "stdout",
     "output_type": "stream",
     "text": [
      "0    4342\n",
      "1    3271\n",
      "Name: target, dtype: int64\n",
      "1    2\n",
      "0    1\n",
      "Name: target, dtype: int64\n"
     ]
    }
   ],
   "source": [
    "#Now let's check other characters as well before removing them\n",
    "#'`'\n",
    "backtick_train = train[train['text'].str.contains(r'`')]\n",
    "\n",
    "print(train['target'].value_counts())\n",
    "print(backtick_train['target'].value_counts())"
   ]
  },
  {
   "cell_type": "markdown",
   "metadata": {},
   "source": [
    "### Useful signs\n",
    "For our analysis, the appearance of the following punctuation marks are good predictors. \n",
    "?, !, &, @, :, '\n",
    "\n",
    "I'll create columns for them"
   ]
  },
  {
   "cell_type": "code",
   "execution_count": 15,
   "metadata": {
    "ExecuteTime": {
     "end_time": "2020-07-22T14:21:05.350819Z",
     "start_time": "2020-07-22T14:21:05.291976Z"
    }
   },
   "outputs": [],
   "source": [
    "#This will be in a function to transform test later\n",
    "train['question'] = train['text'].str.contains(r'\\?')\n",
    "train['exclam'] = train['text'].str.contains(r'!')\n",
    "train['and_sign'] = train['text'].str.contains(r'&')\n",
    "train['at'] = train['text'].str.contains(r'@')\n",
    "train['colon'] = train['text'].str.contains(r':')\n",
    "train['apostrophe'] = train['text'].str.contains(r\"'\")"
   ]
  },
  {
   "cell_type": "markdown",
   "metadata": {},
   "source": [
    "## A case case\n",
    "Before we convert everything to lowercase it might be smart to see whether lowercase and uppercase characters are good at predicting the outcome. Therefore we will have to count the ratio's of uppercase to lowercase first. From there we can find out if someone is using caps lock or not. Or if tweets with generally more uppercase letters have a bigger chance predicting if a tweet is about a real accident. "
   ]
  },
  {
   "cell_type": "code",
   "execution_count": 16,
   "metadata": {
    "ExecuteTime": {
     "end_time": "2020-07-22T14:21:05.441577Z",
     "start_time": "2020-07-22T14:21:05.353811Z"
    }
   },
   "outputs": [
    {
     "data": {
      "text/plain": [
       "0     46\n",
       "1     26\n",
       "2    107\n",
       "3     49\n",
       "4     67\n",
       "Name: lower, dtype: int64"
      ]
     },
     "execution_count": 16,
     "metadata": {},
     "output_type": "execute_result"
    }
   ],
   "source": [
    "train['lower'] = train['text'].apply(lambda x: sum(map(str.islower, x)))\n",
    "train['lower'].head()"
   ]
  },
  {
   "cell_type": "code",
   "execution_count": 17,
   "metadata": {
    "ExecuteTime": {
     "end_time": "2020-07-22T14:21:05.540313Z",
     "start_time": "2020-07-22T14:21:05.443572Z"
    }
   },
   "outputs": [
    {
     "data": {
      "text/plain": [
       "0    10\n",
       "1     5\n",
       "2     2\n",
       "3     1\n",
       "4     3\n",
       "Name: upper, dtype: int64"
      ]
     },
     "execution_count": 17,
     "metadata": {},
     "output_type": "execute_result"
    }
   ],
   "source": [
    "train['upper'] = train['text'].apply(lambda x: sum(map(str.isupper, x)))\n",
    "train['upper'].head()"
   ]
  },
  {
   "cell_type": "code",
   "execution_count": 18,
   "metadata": {
    "ExecuteTime": {
     "end_time": "2020-07-22T14:21:05.587187Z",
     "start_time": "2020-07-22T14:21:05.542307Z"
    }
   },
   "outputs": [],
   "source": [
    "train['upper_vs_lower'] = train['upper'] - train['lower']"
   ]
  },
  {
   "cell_type": "code",
   "execution_count": 19,
   "metadata": {
    "ExecuteTime": {
     "end_time": "2020-07-22T14:21:05.600151Z",
     "start_time": "2020-07-22T14:21:05.589183Z"
    }
   },
   "outputs": [
    {
     "data": {
      "text/plain": [
       "-52     111\n",
       "-75     111\n",
       "-60     110\n",
       "-67     110\n",
       "-66     108\n",
       "-48     105\n",
       "-65     105\n",
       "-79     104\n",
       "-46     104\n",
       "-51     103\n",
       "-61     103\n",
       "-50     102\n",
       "-71     102\n",
       "-54     102\n",
       "-56     101\n",
       "-84     100\n",
       "-69      98\n",
       "-74      98\n",
       "-72      98\n",
       "-35      97\n",
       "-88      97\n",
       "-58      96\n",
       "-80      96\n",
       "-64      96\n",
       "-89      95\n",
       "-76      94\n",
       "-68      94\n",
       "-78      93\n",
       "-73      91\n",
       "-37      90\n",
       "-39      90\n",
       "-49      88\n",
       "-53      88\n",
       "-82      88\n",
       "-86      88\n",
       "-81      87\n",
       "-38      86\n",
       "-44      86\n",
       "-42      85\n",
       "-85      85\n",
       "-83      85\n",
       "-40      85\n",
       "-33      85\n",
       "-59      84\n",
       "-63      83\n",
       "-45      83\n",
       "-91      83\n",
       "-57      83\n",
       "-36      83\n",
       "-62      82\n",
       "-41      81\n",
       "-70      81\n",
       "-77      81\n",
       "-29      81\n",
       "-55      80\n",
       "-47      79\n",
       "-87      79\n",
       "-92      76\n",
       "-43      76\n",
       "-34      75\n",
       "-93      75\n",
       "-28      72\n",
       "-32      69\n",
       "-99      68\n",
       "-95      68\n",
       "-30      67\n",
       "-100     61\n",
       "-98      61\n",
       "-27      59\n",
       "-101     58\n",
       "-90      57\n",
       "-94      56\n",
       "-26      55\n",
       "-31      55\n",
       "-96      51\n",
       "-97      50\n",
       "-24      50\n",
       "-25      47\n",
       "-23      46\n",
       "-19      44\n",
       "-21      41\n",
       "-18      38\n",
       "-20      37\n",
       "-104     36\n",
       "-103     36\n",
       "-107     33\n",
       "-102     33\n",
       "-15      32\n",
       "-14      32\n",
       "-22      31\n",
       "-16      31\n",
       "-13      30\n",
       "-108     29\n",
       "-106     28\n",
       "-17      27\n",
       "-109     24\n",
       "-10      23\n",
       "-105     20\n",
       "-8       17\n",
       "-11      17\n",
       "-110     15\n",
       "-12      15\n",
       "-9       12\n",
       "-4       10\n",
       "-111     10\n",
       " 0       10\n",
       " 7       10\n",
       " 3        7\n",
       " 5        6\n",
       " 12       6\n",
       " 11       6\n",
       " 31       6\n",
       "-114      6\n",
       " 43       6\n",
       "-112      6\n",
       " 27       6\n",
       "-6        6\n",
       "-2        6\n",
       " 4        5\n",
       " 42       5\n",
       " 6        5\n",
       "-5        5\n",
       "-7        5\n",
       " 30       5\n",
       " 68       4\n",
       " 19       4\n",
       " 9        4\n",
       " 17       4\n",
       " 25       4\n",
       " 48       4\n",
       " 38       4\n",
       " 34       4\n",
       " 8        4\n",
       " 36       3\n",
       " 28       3\n",
       " 15       3\n",
       " 35       3\n",
       "-115      3\n",
       " 47       3\n",
       " 16       3\n",
       " 49       3\n",
       " 32       3\n",
       " 45       3\n",
       " 54       3\n",
       "-3        3\n",
       " 40       3\n",
       " 41       3\n",
       " 58       3\n",
       " 13       3\n",
       " 39       3\n",
       " 50       3\n",
       " 21       3\n",
       " 60       3\n",
       " 44       2\n",
       "-1        2\n",
       " 76       2\n",
       " 2        2\n",
       " 62       2\n",
       " 24       2\n",
       " 90       2\n",
       " 20       2\n",
       " 100      2\n",
       " 51       2\n",
       " 53       2\n",
       " 61       2\n",
       " 10       2\n",
       " 46       2\n",
       " 29       2\n",
       " 33       2\n",
       " 37       2\n",
       " 55       2\n",
       " 18       2\n",
       "-116      2\n",
       " 67       1\n",
       " 91       1\n",
       " 89       1\n",
       " 78       1\n",
       " 23       1\n",
       " 52       1\n",
       " 77       1\n",
       " 65       1\n",
       " 14       1\n",
       " 22       1\n",
       " 26       1\n",
       " 1        1\n",
       " 70       1\n",
       " 74       1\n",
       " 96       1\n",
       " 82       1\n",
       " 88       1\n",
       " 84       1\n",
       "-118      1\n",
       " 118      1\n",
       " 72       1\n",
       " 64       1\n",
       " 56       1\n",
       "-113      1\n",
       "Name: upper_vs_lower, dtype: int64"
      ]
     },
     "execution_count": 19,
     "metadata": {},
     "output_type": "execute_result"
    }
   ],
   "source": [
    "train['upper_vs_lower'].value_counts()"
   ]
  },
  {
   "cell_type": "markdown",
   "metadata": {},
   "source": [
    "### The case problem case\n",
    "The problem here becomes what to decide, when does the case matter and when doesn't it. Should we draw the line at e.g. 10% uppercase letters per tweet, or should we really take a look at caps. Let's find out where to draw the line best!"
   ]
  },
  {
   "cell_type": "code",
   "execution_count": 20,
   "metadata": {
    "ExecuteTime": {
     "end_time": "2020-07-22T14:21:05.616109Z",
     "start_time": "2020-07-22T14:21:05.603143Z"
    }
   },
   "outputs": [
    {
     "data": {
      "text/plain": [
       "0    154\n",
       "1     67\n",
       "Name: target, dtype: int64"
      ]
     },
     "execution_count": 20,
     "metadata": {},
     "output_type": "execute_result"
    }
   ],
   "source": [
    "#we'll see if there is a big difference in predictions where there are more uppercase than lowercase characters.\n",
    "caps_train = train[train['upper_vs_lower'] > 0]\n",
    "caps_train['target'].value_counts()"
   ]
  },
  {
   "cell_type": "code",
   "execution_count": 21,
   "metadata": {
    "ExecuteTime": {
     "end_time": "2020-07-22T14:21:06.174619Z",
     "start_time": "2020-07-22T14:21:05.619100Z"
    }
   },
   "outputs": [
    {
     "name": "stdout",
     "output_type": "stream",
     "text": [
      "[141, 221, 297, 586, 1105, 1902]\n"
     ]
    },
    {
     "data": {
      "image/png": "[encoded data removed]",
      "text/plain": [
       "<Figure size 432x288 with 1 Axes>"
      ]
     },
     "metadata": {
      "needs_background": "light"
     },
     "output_type": "display_data"
    }
   ],
   "source": [
    "#We can see the chances decrease for many uppercase letters. \n",
    "#Let's test which value would be the best for estimating the probablity.\n",
    "import matplotlib.pyplot as plt\n",
    "def sum_caps(x):\n",
    "    caps = train[train['upper_vs_lower'] > x]\n",
    "    return caps['target'].shape[0]\n",
    "    \n",
    "vals = [20,0,-10,-20,-30,-40]\n",
    "\n",
    "sums = [sum_caps(i) for i in vals]\n",
    "plt.plot(vals,sums)\n",
    "print(sums)"
   ]
  },
  {
   "cell_type": "code",
   "execution_count": 22,
   "metadata": {
    "ExecuteTime": {
     "end_time": "2020-07-22T14:21:06.371088Z",
     "start_time": "2020-07-22T14:21:06.178604Z"
    }
   },
   "outputs": [
    {
     "name": "stdout",
     "output_type": "stream",
     "text": [
      "[0.3475177304964539, 0.3031674208144796, 0.2760942760942761, 0.2508532423208191, 0.27601809954751133, 0.3322818086225026]\n"
     ]
    },
    {
     "data": {
      "image/png": "[encoded data removed]",
      "text/plain": [
       "<Figure size 432x288 with 1 Axes>"
      ]
     },
     "metadata": {
      "needs_background": "light"
     },
     "output_type": "display_data"
    }
   ],
   "source": [
    "def p_caps(x):\n",
    "    caps = train[train['upper_vs_lower'] > x]\n",
    "    return caps['target'].sum() / caps.shape[0]\n",
    "    \n",
    "vals = [20,0,-10,-20,-30,-40]\n",
    "\n",
    "p_sums = [p_caps(i) for i in vals]\n",
    "plt.plot(vals,p_sums)\n",
    "print(p_sums)"
   ]
  },
  {
   "cell_type": "markdown",
   "metadata": {},
   "source": [
    "We can clearly see that the best chances are acquired when we select the upper column to be on -30. Despite the fact that it might not be the lowest value, still the chances for predicting the right value are increased for 300 entries!"
   ]
  },
  {
   "cell_type": "code",
   "execution_count": 23,
   "metadata": {
    "ExecuteTime": {
     "end_time": "2020-07-22T14:21:06.380065Z",
     "start_time": "2020-07-22T14:21:06.374081Z"
    }
   },
   "outputs": [],
   "source": [
    "train['upper_lower'] = train['upper_vs_lower'] > -30"
   ]
  },
  {
   "cell_type": "code",
   "execution_count": 24,
   "metadata": {
    "ExecuteTime": {
     "end_time": "2020-07-22T14:21:06.595490Z",
     "start_time": "2020-07-22T14:21:06.383057Z"
    }
   },
   "outputs": [
    {
     "name": "stdout",
     "output_type": "stream",
     "text": [
      "[0.438173142467621, 0.5116477879888865, 0.4988888888888889, 0.45317220543806647, 0.4009009009009009, 0.37844611528822053, 0.3897058823529412, 0.40404040404040403, 0.3987730061349693]\n"
     ]
    },
    {
     "data": {
      "image/png": "[encoded data removed]",
      "text/plain": [
       "<Figure size 432x288 with 1 Axes>"
      ]
     },
     "metadata": {
      "needs_background": "light"
     },
     "output_type": "display_data"
    }
   ],
   "source": [
    "#The other thing left to check is if the amount of uppercase characters matters\n",
    "def amount_upper(x):\n",
    "    upper = train[train['upper'] > x]\n",
    "    return upper['target'].sum() / upper.shape[0]\n",
    "    \n",
    "vals_upper = [0,5,10,15,20,25,30,35,40]\n",
    "\n",
    "upper_sums = [amount_upper(i) for i in vals_upper]\n",
    "plt.plot(vals_upper,upper_sums)\n",
    "print(upper_sums)"
   ]
  },
  {
   "cell_type": "markdown",
   "metadata": {},
   "source": [
    "### Case closed\n",
    "As we can see the probabilities of predicting right with the amount of uppercase letters does not matter that much. So we can discard this as a feature. We will keep the upper_lower column, drop the others and go on. "
   ]
  },
  {
   "cell_type": "code",
   "execution_count": 25,
   "metadata": {
    "ExecuteTime": {
     "end_time": "2020-07-22T14:21:06.604463Z",
     "start_time": "2020-07-22T14:21:06.597483Z"
    }
   },
   "outputs": [],
   "source": [
    "train = train.drop(['upper','lower','upper_vs_lower'],axis=1)"
   ]
  },
  {
   "cell_type": "code",
   "execution_count": 26,
   "metadata": {
    "ExecuteTime": {
     "end_time": "2020-07-22T14:21:07.440263Z",
     "start_time": "2020-07-22T14:21:06.607457Z"
    }
   },
   "outputs": [
    {
     "name": "stdout",
     "output_type": "stream",
     "text": [
      "[0.6638214051214708, 0.6454366382140512, 0.6460932370321734, 0.6767411300919842, 0.6787122207621551]\n",
      "0.662160926244367\n"
     ]
    }
   ],
   "source": [
    "#Let's see for fun what the accuracy is for these punctuation marks\n",
    "from sklearn.linear_model import LogisticRegression\n",
    "from sklearn.model_selection import KFold\n",
    "from sklearn.metrics import accuracy_score\n",
    "\n",
    "punc_cols = ['question','exclam','and_sign','at','colon','apostrophe','upper_lower']\n",
    "\n",
    "#converting the boolean columns to binary\n",
    "train[punc_cols] = train[punc_cols].astype(int)\n",
    "\n",
    "kf = KFold(n_splits=5)\n",
    "acc_scores = []\n",
    "for train_index, test_index in kf.split(train):\n",
    "    training = train.loc[train_index]\n",
    "    testing = train.loc[test_index]\n",
    "    \n",
    "    model = LogisticRegression()\n",
    "    model.fit(training[punc_cols],training['target'])\n",
    "    \n",
    "    predictions = model.predict(testing[punc_cols])\n",
    "    acc = accuracy_score(testing['target'],predictions)\n",
    "    acc_scores.append(acc)\n",
    "\n",
    "print(acc_scores)\n",
    "print(sum(acc_scores)/len(acc_scores))"
   ]
  },
  {
   "cell_type": "markdown",
   "metadata": {},
   "source": [
    "### Results\n",
    "For our punctuation columns the accuracy score is 66% not bad, considering that we have not read a single letter yet!"
   ]
  },
  {
   "cell_type": "markdown",
   "metadata": {},
   "source": [
    "### More features!"
   ]
  },
  {
   "cell_type": "code",
   "execution_count": 71,
   "metadata": {
    "ExecuteTime": {
     "end_time": "2020-07-22T14:43:23.047203Z",
     "start_time": "2020-07-22T14:43:23.026262Z"
    },
    "scrolled": true
   },
   "outputs": [
    {
     "data": {
      "text/plain": [
       "0    -0.428438\n",
       "1    -1.424268\n",
       "2     1.563222\n",
       "3    -0.749673\n",
       "4     0.149786\n",
       "5     0.631639\n",
       "6     0.342527\n",
       "7    -0.846044\n",
       "8    -0.107202\n",
       "9    -1.070909\n",
       "10   -1.231527\n",
       "11    1.466852\n",
       "12   -0.524808\n",
       "13   -1.424268\n",
       "14   -0.910291\n",
       "15   -2.227357\n",
       "16   -2.195233\n",
       "17   -2.098862\n",
       "18   -2.066739\n",
       "19   -1.906121\n",
       "20   -2.034615\n",
       "21   -2.130986\n",
       "22   -2.259480\n",
       "23   -1.970368\n",
       "24   -2.355851\n",
       "25   -1.777627\n",
       "26   -1.970368\n",
       "27   -2.034615\n",
       "28   -2.387974\n",
       "29   -2.066739\n",
       "30   -2.387974\n",
       "31   -1.584886\n",
       "32   -1.263650\n",
       "33   -0.813920\n",
       "34   -1.552762\n",
       "35   -0.878167\n",
       "36    1.177740\n",
       "37   -1.584886\n",
       "38    1.017122\n",
       "39   -1.938245\n",
       "40   -1.841874\n",
       "41   -0.749673\n",
       "42    1.145616\n",
       "43   -1.360021\n",
       "44   -0.492685\n",
       "45   -0.332067\n",
       "46   -0.235696\n",
       "47   -0.589056\n",
       "48   -1.841874\n",
       "49    1.659593\n",
       "Name: length, dtype: float64"
      ]
     },
     "execution_count": 71,
     "metadata": {},
     "output_type": "execute_result"
    }
   ],
   "source": [
    "#The feature engineering has actually made a difference. Therefore I will try to find more features!\n",
    "\n",
    "#The length of the tweets is probably a good one.\n",
    "train['length'] = train['text'].apply(len)\n",
    "\n",
    "def standardize(df, label):\n",
    "    \"\"\"\n",
    "    standardizes a series with name ``label'' within the pd.DataFrame\n",
    "    ``df''.\n",
    "    \"\"\"\n",
    "    df = df.copy(deep=True)\n",
    "    series = df.loc[:, label]\n",
    "    avg = series.mean()\n",
    "    stdv = series.std()\n",
    "    series_standardized = (series - avg)/ stdv\n",
    "    return series_standardized\n",
    "    \n",
    "train['length'] = standardize(train,'length')\n",
    "train['length'].head(50)"
   ]
  },
  {
   "cell_type": "code",
   "execution_count": 28,
   "metadata": {
    "ExecuteTime": {
     "end_time": "2020-07-22T14:21:07.474138Z",
     "start_time": "2020-07-22T14:21:07.460176Z"
    }
   },
   "outputs": [
    {
     "data": {
      "text/plain": [
       "USA                           104\n",
       "New York                       71\n",
       "United States                  50\n",
       "London                         45\n",
       "Canada                         29\n",
       "                             ... \n",
       "Somewhere Around You            1\n",
       "Elmwood Park, NJ                1\n",
       "Amsterdam                       1\n",
       "White Plains, NY                1\n",
       "The Orwellion police-state      1\n",
       "Name: location, Length: 3341, dtype: int64"
      ]
     },
     "execution_count": 28,
     "metadata": {},
     "output_type": "execute_result"
    }
   ],
   "source": [
    "#We can also take a look at the chances for the locations and keywords.\n",
    "train['location'].value_counts()"
   ]
  },
  {
   "cell_type": "code",
   "execution_count": 29,
   "metadata": {
    "ExecuteTime": {
     "end_time": "2020-07-22T14:21:07.486107Z",
     "start_time": "2020-07-22T14:21:07.476132Z"
    },
    "scrolled": true
   },
   "outputs": [
    {
     "data": {
      "text/plain": [
       "0                               NaN\n",
       "1                               NaN\n",
       "2                               NaN\n",
       "3                               NaN\n",
       "4                               NaN\n",
       "5                               NaN\n",
       "6                               NaN\n",
       "7                               NaN\n",
       "8                               NaN\n",
       "9                               NaN\n",
       "10                              NaN\n",
       "11                              NaN\n",
       "12                              NaN\n",
       "13                              NaN\n",
       "14                              NaN\n",
       "15                              NaN\n",
       "16                              NaN\n",
       "17                              NaN\n",
       "18                              NaN\n",
       "19                              NaN\n",
       "20                              NaN\n",
       "21                              NaN\n",
       "22                              NaN\n",
       "23                              NaN\n",
       "24                              NaN\n",
       "25                              NaN\n",
       "26                              NaN\n",
       "27                              NaN\n",
       "28                              NaN\n",
       "29                              NaN\n",
       "30                              NaN\n",
       "31                       Birmingham\n",
       "32    Est. September 2012 - Bristol\n",
       "33                           AFRICA\n",
       "34                 Philadelphia, PA\n",
       "35                       London, UK\n",
       "36                         Pretoria\n",
       "37                     World Wide!!\n",
       "38                              NaN\n",
       "39                   Paranaque City\n",
       "40                   Live On Webcam\n",
       "41                              NaN\n",
       "42                        milky way\n",
       "43                              NaN\n",
       "44                              NaN\n",
       "45                              NaN\n",
       "46        GREENSBORO,NORTH CAROLINA\n",
       "47                              NaN\n",
       "48                   Live On Webcam\n",
       "49                         England.\n",
       "50         Sheffield Township, Ohio\n",
       "51                            India\n",
       "52                         Barbados\n",
       "53                          Anaheim\n",
       "54                            Abuja\n",
       "55                              USA\n",
       "56                     South Africa\n",
       "57                Sao Paulo, Brazil\n",
       "58                   hollywoodland \n",
       "59     Edmonton, Alberta - Treaty 6\n",
       "60                              NaN\n",
       "61                 Inang Pamantasan\n",
       "62      Twitter Lockout in progress\n",
       "63                      Concord, CA\n",
       "64                      Calgary, AB\n",
       "65                       Birmingham\n",
       "66                    San Francisco\n",
       "67                           CLVLND\n",
       "68                    Nashville, TN\n",
       "69                  Santa Clara, CA\n",
       "70                               UK\n",
       "71                    St. Louis, MO\n",
       "72           Walker County, Alabama\n",
       "73                        Australia\n",
       "74                   North Carolina\n",
       "75                              NaN\n",
       "76                    Norf Carolina\n",
       "77             San Mateo County, CA\n",
       "78                   North Carolina\n",
       "79                     Njoro, Kenya\n",
       "80                              NaN\n",
       "81            Your Sister's Bedroom\n",
       "82                              NaN\n",
       "83                    Arlington, TX\n",
       "84             South Bloomfield, OH\n",
       "85                              NaN\n",
       "86           New Hanover County, NC\n",
       "87                         Maldives\n",
       "88                   Manchester, NH\n",
       "89                   Wilmington, NC\n",
       "90                              NaN\n",
       "91           New Hanover County, NC\n",
       "92                              NaN\n",
       "93                           global\n",
       "94        Alberta | Sask. | Montana\n",
       "95                        Charlotte\n",
       "96                  Baton Rouge, LA\n",
       "97                   Hagerstown, MD\n",
       "98             Gloucestershire , UK\n",
       "99                              NaN\n",
       "Name: location, dtype: object"
      ]
     },
     "execution_count": 29,
     "metadata": {},
     "output_type": "execute_result"
    }
   ],
   "source": [
    "train['location'].head(100)"
   ]
  },
  {
   "cell_type": "code",
   "execution_count": 30,
   "metadata": {
    "ExecuteTime": {
     "end_time": "2020-07-22T14:21:07.593817Z",
     "start_time": "2020-07-22T14:21:07.490095Z"
    }
   },
   "outputs": [
    {
     "data": {
      "text/plain": [
       "O    2870\n",
       "U    2533\n",
       "E    2210\n",
       "Name: location, dtype: int64"
      ]
     },
     "execution_count": 30,
     "metadata": {},
     "output_type": "execute_result"
    }
   ],
   "source": [
    "#The location column needs some cleaning.\n",
    "#Keeping things easy, if the column contain a comma it's likely to be an english country. \n",
    "train['location'] = train['location'].fillna('U')\n",
    "train.loc[train['location'].str.contains(','), 'location'] = 'E'\n",
    "train['location'] = train['location'].str.replace('USA','E', case=False).str.replace('United States', 'E', case=False).str.replace('Canada','E',case=False).str.replace('New York','E', case=False).str.replace('London', 'E',case=False).str.replace('Australia','E',case=False).str.replace('UK','E',case=False)\n",
    "\n",
    "#Now to sum up our very rough cleaning of the location we will make all the others 'o'\n",
    "train['location'] = train['location'].where((train['location']=='U') | (train['location'] == 'E'),'O')\n",
    "train['location'].value_counts()"
   ]
  },
  {
   "cell_type": "code",
   "execution_count": 49,
   "metadata": {
    "ExecuteTime": {
     "end_time": "2020-07-22T14:23:19.350164Z",
     "start_time": "2020-07-22T14:23:19.340192Z"
    }
   },
   "outputs": [
    {
     "data": {
      "text/plain": [
       "0    1679\n",
       "1    1191\n",
       "Name: target, dtype: int64"
      ]
     },
     "execution_count": 49,
     "metadata": {},
     "output_type": "execute_result"
    }
   ],
   "source": [
    "train.loc[train['location']=='O','target'].value_counts()"
   ]
  },
  {
   "cell_type": "code",
   "execution_count": 51,
   "metadata": {
    "ExecuteTime": {
     "end_time": "2020-07-22T14:23:33.397856Z",
     "start_time": "2020-07-22T14:23:33.387886Z"
    }
   },
   "outputs": [
    {
     "data": {
      "text/plain": [
       "0    1458\n",
       "1    1075\n",
       "Name: target, dtype: int64"
      ]
     },
     "execution_count": 51,
     "metadata": {},
     "output_type": "execute_result"
    }
   ],
   "source": [
    "train.loc[train['location']=='U','target'].value_counts()"
   ]
  },
  {
   "cell_type": "code",
   "execution_count": 53,
   "metadata": {
    "ExecuteTime": {
     "end_time": "2020-07-22T14:24:03.798755Z",
     "start_time": "2020-07-22T14:24:03.787784Z"
    }
   },
   "outputs": [
    {
     "data": {
      "text/plain": [
       "0    1205\n",
       "1    1005\n",
       "Name: target, dtype: int64"
      ]
     },
     "execution_count": 53,
     "metadata": {},
     "output_type": "execute_result"
    }
   ],
   "source": [
    "train.loc[train['location']=='E','target'].value_counts()"
   ]
  },
  {
   "cell_type": "markdown",
   "metadata": {},
   "source": [
    "All in all our rough location indexes might help a bit in the end. Especially for U and O the chances for being a real disaster decrease. \n",
    "\n",
    "### Keyword analysis"
   ]
  },
  {
   "cell_type": "code",
   "execution_count": 62,
   "metadata": {
    "ExecuteTime": {
     "end_time": "2020-07-22T14:30:19.889223Z",
     "start_time": "2020-07-22T14:30:19.871270Z"
    }
   },
   "outputs": [
    {
     "name": "stdout",
     "output_type": "stream",
     "text": [
      "unknown                  61\n",
      "fatalities               45\n",
      "deluge                   42\n",
      "armageddon               42\n",
      "harm                     41\n",
      "damage                   41\n",
      "sinking                  41\n",
      "body%20bags              41\n",
      "collided                 40\n",
      "windstorm                40\n",
      "twister                  40\n",
      "evacuate                 40\n",
      "siren                    40\n",
      "fear                     40\n",
      "outbreak                 40\n",
      "hellfire                 39\n",
      "whirlwind                39\n",
      "weapon                   39\n",
      "weapons                  39\n",
      "collision                39\n",
      "derailment               39\n",
      "earthquake               39\n",
      "sunk                     39\n",
      "wrecked                  39\n",
      "wreckage                 39\n",
      "sinkhole                 39\n",
      "flames                   39\n",
      "famine                   39\n",
      "explosion                39\n",
      "hurricane                38\n",
      "explode                  38\n",
      "injury                   38\n",
      "thunder                  38\n",
      "upheaval                 38\n",
      "blaze                    38\n",
      "flooding                 38\n",
      "ambulance                38\n",
      "fatal                    38\n",
      "oil%20spill              38\n",
      "drowned                  38\n",
      "derailed                 38\n",
      "typhoon                  38\n",
      "bombed                   38\n",
      "fire                     38\n",
      "deaths                   38\n",
      "bioterror                37\n",
      "emergency                37\n",
      "curfew                   37\n",
      "blizzard                 37\n",
      "panic                    37\n",
      "hostages                 37\n",
      "debris                   37\n",
      "crush                    37\n",
      "burning%20buildings      37\n",
      "destroy                  37\n",
      "wounded                  37\n",
      "mudslide                 37\n",
      "pandemonium              37\n",
      "fatality                 37\n",
      "wreck                    37\n",
      "police                   37\n",
      "quarantined              37\n",
      "ruin                     37\n",
      "sandstorm                37\n",
      "catastrophe              36\n",
      "engulfed                 36\n",
      "danger                   36\n",
      "death                    36\n",
      "screaming                36\n",
      "desolation               36\n",
      "dust%20storm             36\n",
      "cliff%20fall             36\n",
      "evacuated                36\n",
      "refugees                 36\n",
      "detonate                 36\n",
      "tragedy                  36\n",
      "devastation              36\n",
      "massacre                 36\n",
      "evacuation               36\n",
      "displaced                36\n",
      "nuclear%20reactor        36\n",
      "floods                   36\n",
      "attack                   36\n",
      "ablaze                   36\n",
      "hail                     35\n",
      "blood                    35\n",
      "bleeding                 35\n",
      "inundated                35\n",
      "structural%20failure     35\n",
      "airplane%20accident      35\n",
      "rioting                  35\n",
      "bloody                   35\n",
      "razed                    35\n",
      "demolition               35\n",
      "casualties               35\n",
      "traumatised              35\n",
      "bridge%20collapse        35\n",
      "attacked                 35\n",
      "emergency%20plan         35\n",
      "screams                  35\n",
      "rescued                  35\n",
      "hijacker                 35\n",
      "flood                    35\n",
      "suicide%20bomb           35\n",
      "disaster                 35\n",
      "derail                   35\n",
      "collapsed                35\n",
      "hazardous                35\n",
      "rescuers                 35\n",
      "tornado                  35\n",
      "buildings%20burning      35\n",
      "drought                  35\n",
      "storm                    35\n",
      "injured                  35\n",
      "accident                 35\n",
      "rainstorm                34\n",
      "crashed                  34\n",
      "quarantine               34\n",
      "destruction              34\n",
      "drowning                 34\n",
      "heat%20wave              34\n",
      "annihilated              34\n",
      "blazing                  34\n",
      "demolish                 34\n",
      "army                     34\n",
      "loud%20bang              34\n",
      "collapse                 34\n",
      "military                 34\n",
      "flattened                34\n",
      "arsonist                 34\n",
      "natural%20disaster       34\n",
      "smoke                    34\n",
      "hazard                   34\n",
      "nuclear%20disaster       34\n",
      "bomb                     34\n",
      "collide                  34\n",
      "riot                     34\n",
      "lava                     34\n",
      "burning                  34\n",
      "aftershock               34\n",
      "terrorism                34\n",
      "electrocuted             34\n",
      "casualty                 34\n",
      "tsunami                  34\n",
      "screamed                 34\n",
      "hijack                   33\n",
      "panicking                33\n",
      "injuries                 33\n",
      "emergency%20services     33\n",
      "suicide%20bombing        33\n",
      "chemical%20emergency     33\n",
      "lightning                33\n",
      "blew%20up                33\n",
      "body%20bag               33\n",
      "violent%20storm          33\n",
      "meltdown                 33\n",
      "fire%20truck             33\n",
      "stretcher                33\n",
      "blown%20up               33\n",
      "wounds                   33\n",
      "survived                 33\n",
      "body%20bagging           33\n",
      "wildfire                 33\n",
      "exploded                 33\n",
      "landslide                33\n",
      "mass%20murder            33\n",
      "burned                   33\n",
      "thunderstorm             33\n",
      "trouble                  33\n",
      "buildings%20on%20fire    33\n",
      "crash                    33\n",
      "cyclone                  32\n",
      "hailstorm                32\n",
      "eyewitness               32\n",
      "drown                    32\n",
      "apocalypse               32\n",
      "forest%20fires           32\n",
      "detonation               32\n",
      "hijacking                32\n",
      "electrocute              32\n",
      "destroyed                32\n",
      "trapped                  32\n",
      "arson                    32\n",
      "mass%20murderer          32\n",
      "survive                  32\n",
      "blight                   32\n",
      "terrorist                31\n",
      "trauma                   31\n",
      "obliterate               31\n",
      "wild%20fires             31\n",
      "hostage                  31\n",
      "suicide%20bomber         31\n",
      "devastated               31\n",
      "crushed                  31\n",
      "obliterated              31\n",
      "survivors                30\n",
      "avalanche                30\n",
      "mayhem                   30\n",
      "bioterrorism             30\n",
      "catastrophic             30\n",
      "dead                     30\n",
      "sirens                   29\n",
      "bombing                  29\n",
      "first%20responders       29\n",
      "desolate                 29\n",
      "annihilation             29\n",
      "obliteration             29\n",
      "snowstorm                29\n",
      "seismic                  29\n",
      "rubble                   28\n",
      "demolished               28\n",
      "volcano                  27\n",
      "deluged                  27\n",
      "battle                   26\n",
      "bush%20fires             25\n",
      "war%20zone               24\n",
      "rescue                   22\n",
      "forest%20fire            19\n",
      "epicentre                12\n",
      "threat                   11\n",
      "inundation               10\n",
      "radiation%20emergency     9\n",
      "Name: keyword, dtype: int64\n"
     ]
    },
    {
     "data": {
      "text/plain": [
       "222"
      ]
     },
     "execution_count": 62,
     "metadata": {},
     "output_type": "execute_result"
    }
   ],
   "source": [
    "print(train['keyword'].value_counts(dropna=False))\n",
    "train['keyword'].value_counts(dropna=False).shape[0]"
   ]
  },
  {
   "cell_type": "code",
   "execution_count": 59,
   "metadata": {
    "ExecuteTime": {
     "end_time": "2020-07-22T14:28:49.770779Z",
     "start_time": "2020-07-22T14:28:49.764795Z"
    }
   },
   "outputs": [],
   "source": [
    "train['keyword'].fillna('unknown',inplace=True)"
   ]
  },
  {
   "cell_type": "code",
   "execution_count": 72,
   "metadata": {
    "ExecuteTime": {
     "end_time": "2020-07-22T14:51:36.347999Z",
     "start_time": "2020-07-22T14:51:36.274198Z"
    }
   },
   "outputs": [],
   "source": [
    "#We can use the keywords to do one hot encoding, aka creating dummy columns. \n",
    "#This is the last step here so we will sum up all the other measures for test.\n",
    "def test_keyword_location(train):\n",
    "    train['length'] = train['text'].apply(len).std()\n",
    "    train['length'] = standardize(train,'length')\n",
    "    train['location'] = train['location'].fillna('U')\n",
    "    train.loc[train['location'].str.contains(','), 'location'] = 'E'\n",
    "    train['location'] = train['location'].str.replace('USA','E', case=False).str.replace('United States', 'E', case=False).str.replace('Canada','E',case=False).str.replace('New York','E', case=False).str.replace('London', 'E',case=False).str.replace('Australia','E',case=False).str.replace('UK','E',case=False)\n",
    "    train['location'] = train['location'].where((train['location']=='U') | (train['location'] == 'E'),'O')\n",
    "    train['keyword'].fillna('unknown',inplace=True)\n",
    "    return train\n",
    "\n",
    "test = test_keyword_location(test)\n",
    "  \n",
    "#After the creation of the tfidf matrix we can add these!\n",
    "keyword_train_dummies = pd.get_dummies(train['keyword'],prefix='keyword')\n",
    "keyword_test_dummies = pd.get_dummies(test['keyword'],prefix='keyword')\n",
    "location_train_dummies = pd.get_dummies(train['location'],prefix='location')\n",
    "location_test_dummies = pd.get_dummies(test['location'],prefix='location')"
   ]
  },
  {
   "cell_type": "code",
   "execution_count": 31,
   "metadata": {
    "ExecuteTime": {
     "end_time": "2020-07-22T14:21:07.729490Z",
     "start_time": "2020-07-22T14:21:07.595812Z"
    }
   },
   "outputs": [],
   "source": [
    "#This function will pre-transform test when the time is right.\n",
    "def pre_transform_features(train):\n",
    "    train['question'] = train['text'].str.contains(r'\\?')\n",
    "    train['exclam'] = train['text'].str.contains(r'!')\n",
    "    train['and_sign'] = train['text'].str.contains(r'&')\n",
    "    train['at'] = train['text'].str.contains(r'@')\n",
    "    train['colon'] = train['text'].str.contains(r':')\n",
    "    train['apostrophe'] = train['text'].str.contains(r\"'\")\n",
    "    \n",
    "    train['lower'] = train['text'].apply(lambda x: sum(map(str.islower, x)))\n",
    "    train['upper'] = train['text'].apply(lambda x: sum(map(str.isupper, x)))\n",
    "    train['upper_vs_lower'] = train['upper'] - train['lower']\n",
    "    train['upper_lower'] = train['upper_vs_lower'] > -30\n",
    "    \n",
    "    train = train.drop(['upper','lower','upper_vs_lower'],axis=1)\n",
    "    return train\n",
    "\n",
    "test = pre_transform_features(test)"
   ]
  },
  {
   "cell_type": "markdown",
   "metadata": {},
   "source": [
    "## Transformations \n",
    "after summing up the pre-transformation cleaning in a function to perform later, we will go on with transforming the text to lowercase, and use the following methods to train the model:\n",
    "\n",
    "- *bag of words-method* \n",
    "- *TF-IDF* which means that words get a penalty for being in the document too frequently.\n",
    "\n",
    "In order to get a great quality tokenized vector we need to do the following things:\n",
    "* transform everything to lowercase, and remove punctuation.\n",
    "* remove the most used words (stopwords) in English that are not useful for our analysis.\n",
    "* populate one column per unique word with count or TF-IDF.\n",
    "\n",
    "Fortunately we have ScikitLearn utilities to do most of this. "
   ]
  },
  {
   "cell_type": "code",
   "execution_count": 32,
   "metadata": {
    "ExecuteTime": {
     "end_time": "2020-07-22T14:21:08.117438Z",
     "start_time": "2020-07-22T14:21:07.731452Z"
    }
   },
   "outputs": [
    {
     "data": {
      "text/plain": [
       "0    our deeds are the reason of this earthquake ma...\n",
       "1                forest fire near la ronge sask canada\n",
       "2    all residents asked to shelter in place are be...\n",
       "3     people receive wildfires evacuation orders in...\n",
       "4    just got sent this photo from ruby alaska as s...\n",
       "Name: text, dtype: object"
      ]
     },
     "execution_count": 32,
     "metadata": {},
     "output_type": "execute_result"
    }
   ],
   "source": [
    "import re\n",
    "import string\n",
    "\n",
    "#This is a function to remove punctuation, links, html etc.\n",
    "def clean_text(text):\n",
    "    '''Make text lowercase, remove text in square brackets,remove links,remove punctuation\n",
    "    and remove words containing numbers.'''\n",
    "    text = text.lower()\n",
    "    text = re.sub('\\[.*?\\]', '', text)\n",
    "    text = re.sub('https?://\\S+|www\\.\\S+', '', text)\n",
    "    text = re.sub('<.*?>+', '', text)\n",
    "    text = re.sub('[%s]' % re.escape(string.punctuation), '', text)\n",
    "    text = re.sub('\\n', '', text)\n",
    "    text = re.sub('\\w*\\d\\w*', '', text)\n",
    "    return text\n",
    "\n",
    "# Applying the cleaning function to both test and training datasets\n",
    "train['text'] = train['text'].apply(lambda x: clean_text(x))\n",
    "test['text'] = test['text'].apply(lambda x: clean_text(x))\n",
    "\n",
    "# Let's take a look at the updated text\n",
    "train['text'].head()"
   ]
  },
  {
   "cell_type": "code",
   "execution_count": 33,
   "metadata": {
    "ExecuteTime": {
     "end_time": "2020-07-22T14:21:08.544279Z",
     "start_time": "2020-07-22T14:21:08.119411Z"
    }
   },
   "outputs": [
    {
     "name": "stdout",
     "output_type": "stream",
     "text": [
      "['i', 'me', 'my', 'myself', 'we']\n"
     ]
    }
   ],
   "source": [
    "import nltk\n",
    "from nltk.corpus import stopwords\n",
    "sw = stopwords.words(\"english\")\n",
    "print(sw[:5])"
   ]
  },
  {
   "cell_type": "code",
   "execution_count": 34,
   "metadata": {
    "ExecuteTime": {
     "end_time": "2020-07-22T14:21:08.961162Z",
     "start_time": "2020-07-22T14:21:08.546271Z"
    }
   },
   "outputs": [
    {
     "data": {
      "text/plain": [
       "<5x6117 sparse matrix of type '<class 'numpy.int64'>'\n",
       "\twith 28 stored elements in Compressed Sparse Row format>"
      ]
     },
     "execution_count": 34,
     "metadata": {},
     "output_type": "execute_result"
    }
   ],
   "source": [
    "from sklearn.feature_extraction.text import TfidfVectorizer\n",
    "from sklearn.feature_extraction.text import CountVectorizer\n",
    "\n",
    "#inside the CountVectorizet instance we can specify stopwords, the minimum amount for a word to appear and the maximum.\n",
    "#the maximum is given as a proportion to the whole document\n",
    "cvec = CountVectorizer(stop_words = sw, min_df=2, max_df = 0.8)\n",
    "cvec.fit(train['text'])\n",
    "\n",
    "#Vectorizing the text\n",
    "train_cvec = cvec.transform(train['text'])\n",
    "test_cvec = cvec.transform(test['text'])\n",
    "\n",
    "#We can see that the output is a spars numpy array, which has deleted the zeros to save RAM.\n",
    "#This is effectively the bag of words!\n",
    "test_cvec[:5]"
   ]
  },
  {
   "cell_type": "code",
   "execution_count": 35,
   "metadata": {
    "ExecuteTime": {
     "end_time": "2020-07-22T14:21:09.315249Z",
     "start_time": "2020-07-22T14:21:08.963156Z"
    }
   },
   "outputs": [
    {
     "data": {
      "text/plain": [
       "<5x6117 sparse matrix of type '<class 'numpy.float64'>'\n",
       "\twith 28 stored elements in Compressed Sparse Row format>"
      ]
     },
     "execution_count": 35,
     "metadata": {},
     "output_type": "execute_result"
    }
   ],
   "source": [
    "#Now we can also create a tfidf matrix.\n",
    "tfidf = TfidfVectorizer(stop_words=sw, min_df=2, max_df= 0.8)\n",
    "tfidf.fit(train['text'])\n",
    "\n",
    "train_tfidf = tfidf.transform(train['text'])\n",
    "test_tfidf = tfidf.transform(test['text'])\n",
    "\n",
    "test_tfidf[:5]"
   ]
  },
  {
   "cell_type": "markdown",
   "metadata": {},
   "source": [
    "## Model training\n",
    "\n",
    "We can now train a few models and cross_validate to see which is performing best. As an error metric I will use the [f1 score](https://en.wikipedia.org/wiki/Precision_and_recall), Which is the weighted average of the precision(accuracy) and recall scores. For now I will train the following models:\n",
    "\n",
    "- good old Logistic regression\n",
    "- Multinominal Naive Bayes\n",
    "- Bernoulli Naive Bayes, which sometimes just works better"
   ]
  },
  {
   "cell_type": "code",
   "execution_count": 36,
   "metadata": {
    "ExecuteTime": {
     "end_time": "2020-07-22T14:21:09.961546Z",
     "start_time": "2020-07-22T14:21:09.317209Z"
    }
   },
   "outputs": [
    {
     "name": "stdout",
     "output_type": "stream",
     "text": [
      "[0.60018815 0.49574106 0.56716418 0.53544776 0.6921875 ]\n",
      "0.5781457286542068\n",
      "[0.62940671 0.59865972 0.68592593 0.63788969 0.7348643 ]\n",
      "0.6573492677291572\n",
      "[0.63100635 0.60254372 0.67405063 0.63212435 0.74686347]\n",
      "0.657317704079332\n"
     ]
    }
   ],
   "source": [
    "from sklearn.linear_model import LogisticRegression\n",
    "from sklearn.naive_bayes import MultinomialNB\n",
    "from sklearn.naive_bayes import BernoulliNB\n",
    "from sklearn.model_selection import cross_val_score\n",
    "from sklearn.svm import SVC\n",
    "\n",
    "lr = LogisticRegression()\n",
    "mnb = MultinomialNB()\n",
    "bnb = BernoulliNB()\n",
    "\n",
    "#I've added this one later, but it scores poorly.\n",
    "svc = SVC()\n",
    "\n",
    "models = [lr,mnb,bnb]\n",
    "\n",
    "#testing the CountVectorized data first\n",
    "for model in models:\n",
    "    cv_scores = cross_val_score(model, train_cvec, train['target'], cv=5, scoring='f1')\n",
    "    print(cv_scores)\n",
    "    print(sum(cv_scores) / len(cv_scores))"
   ]
  },
  {
   "cell_type": "code",
   "execution_count": 37,
   "metadata": {
    "ExecuteTime": {
     "end_time": "2020-07-22T14:21:10.486328Z",
     "start_time": "2020-07-22T14:21:09.968528Z"
    }
   },
   "outputs": [
    {
     "name": "stdout",
     "output_type": "stream",
     "text": [
      "[0.59545005 0.51179673 0.55229358 0.53121903 0.67361111]\n",
      "0.5728741001004832\n",
      "[0.61075661 0.60392799 0.66287571 0.61444735 0.74581431]\n",
      "0.6475643919240748\n",
      "[0.63100635 0.60254372 0.67405063 0.63212435 0.74686347]\n",
      "0.657317704079332\n"
     ]
    }
   ],
   "source": [
    "#Now the turn for tfidf\n",
    "for model in models:\n",
    "    cv_scores = cross_val_score(model, train_tfidf, train['target'], cv=5, scoring='f1')\n",
    "    print(cv_scores)\n",
    "    print(sum(cv_scores) / len(cv_scores))"
   ]
  },
  {
   "cell_type": "markdown",
   "metadata": {},
   "source": [
    "### Model evaluation\n",
    "As we can see, the top entries are very similar in score. Let's see if we can tweak this score slightly by adding our punctuation columns. \n",
    "\n",
    "It should be noted that the f1 score is often lower than the accuracy score. Let's quickly confirm this."
   ]
  },
  {
   "cell_type": "code",
   "execution_count": 38,
   "metadata": {
    "ExecuteTime": {
     "end_time": "2020-07-22T14:21:11.014170Z",
     "start_time": "2020-07-22T14:21:10.488323Z"
    }
   },
   "outputs": [
    {
     "name": "stdout",
     "output_type": "stream",
     "text": [
      "[0.73145108 0.64674984 0.67957978 0.6892247  0.75295664]\n",
      "0.6999924072672805\n",
      "[0.7196323  0.68220617 0.72751149 0.70893561 0.78055191]\n",
      "0.723767496719163\n",
      "[0.73276428 0.67170059 0.72948129 0.72010512 0.77463863]\n",
      "0.7257379834219584\n"
     ]
    }
   ],
   "source": [
    "#Now the turn for tfidf\n",
    "for model in models:\n",
    "    cv_scores = cross_val_score(model, train_tfidf, train['target'], cv=5, scoring='accuracy')\n",
    "    print(cv_scores)\n",
    "    print(sum(cv_scores) / len(cv_scores))"
   ]
  },
  {
   "cell_type": "code",
   "execution_count": 39,
   "metadata": {
    "ExecuteTime": {
     "end_time": "2020-07-22T14:21:11.024143Z",
     "start_time": "2020-07-22T14:21:11.016164Z"
    }
   },
   "outputs": [],
   "source": [
    "#We can make a submission to kaggle now using the Bernoulli Naive Bayes version.\n",
    "def make_prediction(model, vectorized_train, target, vectorized_test):\n",
    "    model.fit(vectorized_train, target)\n",
    "    predictions = model.predict(vectorized_test)\n",
    "    return predictions\n",
    "\n",
    "def save_submission(predictions,test,filename):\n",
    "    end = pd.DataFrame()\n",
    "    end['id'] = test['id']\n",
    "    end['target'] = predictions\n",
    "    end.to_csv(filename,index=False)"
   ]
  },
  {
   "cell_type": "code",
   "execution_count": 40,
   "metadata": {
    "ExecuteTime": {
     "end_time": "2020-07-22T14:21:11.058051Z",
     "start_time": "2020-07-22T14:21:11.026138Z"
    }
   },
   "outputs": [],
   "source": [
    "predict_bnb_tfidf = make_prediction(bnb, train_tfidf, train['target'], test_tfidf)\n",
    "filename = 'bnb_tfidf.csv'\n",
    "save_submission(predict_bnb_tfidf,test,filename)\n",
    "#The score for this submission was 0.79282, which is around the 55th percentile."
   ]
  },
  {
   "cell_type": "code",
   "execution_count": 41,
   "metadata": {
    "ExecuteTime": {
     "end_time": "2020-07-22T14:21:11.643486Z",
     "start_time": "2020-07-22T14:21:11.060047Z"
    }
   },
   "outputs": [],
   "source": [
    "#Now we can add the punctuation columns to see what happens!\n",
    "#In order to do that we need to transform the train_cvec and test_cvec from sparse to dense matrix (adding the zeros)\n",
    "\n",
    "dense_train_cvec = train_cvec.todense()\n",
    "total_train_cvec = np.append(dense_train_cvec, train[punc_cols],1)\n",
    "\n",
    "dense_test_cvec = test_cvec.todense()\n",
    "total_test_cvec = np.append(dense_test_cvec, test[punc_cols],1)"
   ]
  },
  {
   "cell_type": "code",
   "execution_count": 42,
   "metadata": {
    "ExecuteTime": {
     "end_time": "2020-07-22T14:21:11.654457Z",
     "start_time": "2020-07-22T14:21:11.646478Z"
    }
   },
   "outputs": [
    {
     "data": {
      "text/plain": [
       "matrix([[0, 0, 0, ..., 0, 0, 0],\n",
       "        [0, 0, 0, ..., 0, 0, 1],\n",
       "        [0, 0, 0, ..., 0, 1, 0],\n",
       "        [0, 0, 0, ..., 0, 0, 0],\n",
       "        [0, 0, 0, ..., 0, 0, 0]], dtype=int64)"
      ]
     },
     "execution_count": 42,
     "metadata": {},
     "output_type": "execute_result"
    }
   ],
   "source": [
    "total_train_cvec[:5]"
   ]
  },
  {
   "cell_type": "code",
   "execution_count": 43,
   "metadata": {
    "ExecuteTime": {
     "end_time": "2020-07-22T14:21:47.463598Z",
     "start_time": "2020-07-22T14:21:11.657450Z"
    }
   },
   "outputs": [
    {
     "name": "stdout",
     "output_type": "stream",
     "text": [
      "[0.6027907  0.52718287 0.5982215  0.60436681 0.70652174]\n",
      "0.6078167238453196\n",
      "[0.64223386 0.61526946 0.68346924 0.63382594 0.75213675]\n",
      "0.6653870501500743\n",
      "[0.64120782 0.60577674 0.69177556 0.63220339 0.75558867]\n",
      "0.6653104345830402\n"
     ]
    }
   ],
   "source": [
    "#Now we can train our models again see if there is any difference.\n",
    "for model in models:\n",
    "    cv_scores = cross_val_score(model, total_train_cvec, train['target'], cv=5, scoring='f1')\n",
    "    print(cv_scores)\n",
    "    print(sum(cv_scores) / len(cv_scores))"
   ]
  },
  {
   "cell_type": "code",
   "execution_count": 44,
   "metadata": {
    "ExecuteTime": {
     "end_time": "2020-07-22T14:21:48.056063Z",
     "start_time": "2020-07-22T14:21:47.466596Z"
    }
   },
   "outputs": [],
   "source": [
    "dense_train_tfidf = train_tfidf.todense()\n",
    "total_train_tfidf = np.append(dense_train_tfidf, train[punc_cols],1)\n",
    "\n",
    "dense_test_tfidf = test_tfidf.todense()\n",
    "total_test_tfidf = np.append(dense_test_tfidf, test[punc_cols],1)"
   ]
  },
  {
   "cell_type": "code",
   "execution_count": 45,
   "metadata": {
    "ExecuteTime": {
     "end_time": "2020-07-22T14:22:14.915485Z",
     "start_time": "2020-07-22T14:21:48.056063Z"
    }
   },
   "outputs": [
    {
     "name": "stdout",
     "output_type": "stream",
     "text": [
      "[0.62126866 0.58091993 0.62975207 0.61621622 0.72391653]\n",
      "0.6344146807621065\n",
      "[0.62734584 0.60227273 0.67447307 0.64915254 0.74713522]\n",
      "0.6600758799577549\n",
      "[0.64120782 0.60577674 0.69177556 0.63220339 0.75558867]\n",
      "0.6653104345830402\n"
     ]
    }
   ],
   "source": [
    "#Now the turn for tfidf\n",
    "for model in models:\n",
    "    cv_scores = cross_val_score(model, total_train_tfidf, train['target'], cv=5, scoring='f1')\n",
    "    print(cv_scores)\n",
    "    print(sum(cv_scores) / len(cv_scores))"
   ]
  },
  {
   "cell_type": "markdown",
   "metadata": {},
   "source": [
    "As seen there is a huge increase for the logistic regression, and the others are actually improving 0.01 as well time for a second submission! :D"
   ]
  },
  {
   "cell_type": "code",
   "execution_count": 46,
   "metadata": {
    "ExecuteTime": {
     "end_time": "2020-07-22T14:22:15.851507Z",
     "start_time": "2020-07-22T14:22:14.918477Z"
    }
   },
   "outputs": [],
   "source": [
    "predict_bnb_tfidf_punc = make_prediction(bnb, total_train_tfidf, train['target'], total_test_tfidf)\n",
    "filename = 'bnb_punc_tfidf.csv'\n",
    "save_submission(predict_bnb_tfidf_punc,test,filename)\n",
    "#0.79221, which is not better than the first one :("
   ]
  },
  {
   "cell_type": "code",
   "execution_count": 47,
   "metadata": {
    "ExecuteTime": {
     "end_time": "2020-07-22T14:22:21.919214Z",
     "start_time": "2020-07-22T14:22:15.851507Z"
    }
   },
   "outputs": [],
   "source": [
    "predict_lr_tfidf_punc = make_prediction(lr, total_train_tfidf, train['target'], total_test_tfidf)\n",
    "filename = 'lr_punc_tfidf.csv'\n",
    "save_submission(predict_lr_tfidf_punc,test,filename)\n",
    "#0.79834 which is my best up to now. Very strange considering it scored 0.03 lower in the test set!"
   ]
  },
  {
   "cell_type": "code",
   "execution_count": 74,
   "metadata": {
    "ExecuteTime": {
     "end_time": "2020-07-22T14:57:39.251166Z",
     "start_time": "2020-07-22T14:57:38.467448Z"
    }
   },
   "outputs": [],
   "source": [
    "#Now we can append the new dummy columns made above to the np.array\n",
    "complete_train_tfidf = np.append(total_train_tfidf, keyword_train_dummies, 1)\n",
    "complete_train_tfidf = np.append(complete_train_tfidf, location_train_dummies, 1)\n",
    "\n",
    "complete_test_tfidf = np.append(total_test_tfidf, keyword_test_dummies, 1)\n",
    "complete_test_tfidf = np.append(complete_test_tfidf, location_test_dummies, 1)"
   ]
  },
  {
   "cell_type": "code",
   "execution_count": 75,
   "metadata": {
    "ExecuteTime": {
     "end_time": "2020-07-22T14:59:02.868502Z",
     "start_time": "2020-07-22T14:58:30.530740Z"
    }
   },
   "outputs": [
    {
     "name": "stdout",
     "output_type": "stream",
     "text": [
      "[0.53307009 0.43189369 0.54913728 0.53641208 0.64592593]\n",
      "0.539287812990483\n",
      "[0.55166217 0.47982063 0.60503059 0.59762846 0.69143995]\n",
      "0.5851163597906393\n",
      "[0.60477454 0.54707191 0.64367816 0.62980769 0.71349096]\n",
      "0.6277646507634709\n"
     ]
    }
   ],
   "source": [
    "#It was clear that tfidf worked better\n",
    "for model in models:\n",
    "    cv_scores = cross_val_score(model, complete_train_tfidf, train['target'], cv=5, scoring='f1')\n",
    "    print(cv_scores)\n",
    "    print(sum(cv_scores) / len(cv_scores))"
   ]
  },
  {
   "cell_type": "code",
   "execution_count": 76,
   "metadata": {
    "ExecuteTime": {
     "end_time": "2020-07-22T15:01:44.667203Z",
     "start_time": "2020-07-22T15:01:43.723075Z"
    }
   },
   "outputs": [],
   "source": [
    "#Despite the bad scores, let's predict anyway\n",
    "predict_bnb_tfidf_complete = make_prediction(bnb, complete_train_tfidf, train['target'], complete_test_tfidf)\n",
    "filename = 'bnb_complete_tfidf.csv'\n",
    "save_submission(predict_bnb_tfidf_complete,test,filename)\n",
    "#0.79344 second best, still not bad, considering the cross val scores were so awful. Maybe lr will even do better."
   ]
  },
  {
   "cell_type": "code",
   "execution_count": 77,
   "metadata": {
    "ExecuteTime": {
     "end_time": "2020-07-22T15:04:01.978619Z",
     "start_time": "2020-07-22T15:03:56.095346Z"
    }
   },
   "outputs": [],
   "source": [
    "#A case for Lr?\n",
    "predict_lr_tfidf_complete = make_prediction(lr, complete_train_tfidf, train['target'], complete_test_tfidf)\n",
    "filename = 'lr_complete_tfidf.csv'\n",
    "save_submission(predict_lr_tfidf_complete,test,filename)\n",
    "#0.79221 still not bad, but it seems hard to improve. "
   ]
  },
  {
   "cell_type": "markdown",
   "metadata": {},
   "source": [
    "This is it for now. I've had my fun, learned a lot about NLP and see you next time! The main takeaway is that the most influential parts are the text and the punctuation. Location and keyword are less important. "
   ]
  }
 ],
 "metadata": {
  "kernelspec": {
   "display_name": "Python 3",
   "language": "python",
   "name": "python3"
  },
  "language_info": {
   "codemirror_mode": {
    "name": "ipython",
    "version": 3
   },
   "file_extension": ".py",
   "mimetype": "text/x-python",
   "name": "python",
   "nbconvert_exporter": "python",
   "pygments_lexer": "ipython3",
   "version": "3.7.6"
  },
  "toc": {
   "base_numbering": 1,
   "nav_menu": {},
   "number_sections": true,
   "sideBar": true,
   "skip_h1_title": false,
   "title_cell": "Table of Contents",
   "title_sidebar": "Contents",
   "toc_cell": false,
   "toc_position": {},
   "toc_section_display": true,
   "toc_window_display": false
  }
 },
 "nbformat": 4,
 "nbformat_minor": 4
}
